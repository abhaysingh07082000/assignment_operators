{
 "cells": [
  {
   "cell_type": "markdown",
   "id": "87fa043c",
   "metadata": {},
   "source": [
    "# Q1. Calculate the sum, difference, product, and quotient of two numbers."
   ]
  },
  {
   "cell_type": "code",
   "execution_count": 1,
   "id": "74376d55",
   "metadata": {},
   "outputs": [],
   "source": [
    "a=7\n",
    "b=9"
   ]
  },
  {
   "cell_type": "code",
   "execution_count": 7,
   "id": "5b0c7c1b",
   "metadata": {},
   "outputs": [],
   "source": [
    "sum=a+b\n",
    "prod=a*b\n",
    "diff=a-b\n",
    "div=b/a"
   ]
  },
  {
   "cell_type": "code",
   "execution_count": 3,
   "id": "4959e415",
   "metadata": {},
   "outputs": [
    {
     "data": {
      "text/plain": [
       "16"
      ]
     },
     "execution_count": 3,
     "metadata": {},
     "output_type": "execute_result"
    }
   ],
   "source": [
    "sum"
   ]
  },
  {
   "cell_type": "code",
   "execution_count": 4,
   "id": "e3ae56bb",
   "metadata": {},
   "outputs": [
    {
     "data": {
      "text/plain": [
       "63"
      ]
     },
     "execution_count": 4,
     "metadata": {},
     "output_type": "execute_result"
    }
   ],
   "source": [
    "prod"
   ]
  },
  {
   "cell_type": "code",
   "execution_count": 5,
   "id": "b3fca70d",
   "metadata": {},
   "outputs": [
    {
     "data": {
      "text/plain": [
       "-2"
      ]
     },
     "execution_count": 5,
     "metadata": {},
     "output_type": "execute_result"
    }
   ],
   "source": [
    "diff"
   ]
  },
  {
   "cell_type": "code",
   "execution_count": 8,
   "id": "ccf7f7b4",
   "metadata": {},
   "outputs": [
    {
     "data": {
      "text/plain": [
       "1.2857142857142858"
      ]
     },
     "execution_count": 8,
     "metadata": {},
     "output_type": "execute_result"
    }
   ],
   "source": [
    "div"
   ]
  },
  {
   "cell_type": "markdown",
   "id": "ae801d28",
   "metadata": {},
   "source": [
    "# Q2. Perform various assignment operations on a variable."
   ]
  },
  {
   "cell_type": "code",
   "execution_count": 9,
   "id": "c25c333e",
   "metadata": {},
   "outputs": [],
   "source": [
    "x=50\n",
    "y=20"
   ]
  },
  {
   "cell_type": "code",
   "execution_count": 15,
   "id": "4373f1a9",
   "metadata": {},
   "outputs": [],
   "source": [
    "sum=x+y\n",
    "\n",
    "diff=x-y\n",
    "\n",
    "prod=x*y\n",
    "\n",
    "div=x/y\n",
    "\n",
    "mod=x%y\n",
    "\n",
    "comp=x==y\n",
    "\n",
    "great=x>=y\n",
    "\n",
    "less=x<=y\n",
    "\n",
    "not_eq=x!=y\n",
    "\n",
    "sqr=x**y\n",
    "\n",
    "logi=(x>y)and(x<y)\n",
    "\n",
    "logi1=(x>y)or(x<y)\n",
    "\n",
    "logi2=not(x)\n",
    "\n",
    "bit=x&y\n",
    "\n",
    "bit2=x|y\n",
    "\n",
    "bit3= ~y\n",
    "\n",
    "bit5=~x\n",
    "\n",
    "bit4=x^y\n",
    "\n",
    "shift1=x>>y\n",
    "\n",
    "shift2=x<<y\n",
    "\n",
    "x += 5\n",
    "\n",
    "x -= 5\n",
    "\n",
    "x=45\n",
    "\n",
    "y=20"
   ]
  },
  {
   "cell_type": "code",
   "execution_count": 18,
   "id": "fbb2adc6",
   "metadata": {},
   "outputs": [
    {
     "data": {
      "text/plain": [
       "70"
      ]
     },
     "execution_count": 18,
     "metadata": {},
     "output_type": "execute_result"
    }
   ],
   "source": [
    "sum\n"
   ]
  },
  {
   "cell_type": "code",
   "execution_count": 19,
   "id": "77ddc33c",
   "metadata": {},
   "outputs": [
    {
     "data": {
      "text/plain": [
       "30"
      ]
     },
     "execution_count": 19,
     "metadata": {},
     "output_type": "execute_result"
    }
   ],
   "source": [
    "diff\n"
   ]
  },
  {
   "cell_type": "code",
   "execution_count": 20,
   "id": "bbb6aba9",
   "metadata": {},
   "outputs": [
    {
     "data": {
      "text/plain": [
       "2.5"
      ]
     },
     "execution_count": 20,
     "metadata": {},
     "output_type": "execute_result"
    }
   ],
   "source": [
    "div\n"
   ]
  },
  {
   "cell_type": "code",
   "execution_count": 21,
   "id": "9481e942",
   "metadata": {},
   "outputs": [
    {
     "data": {
      "text/plain": [
       "10"
      ]
     },
     "execution_count": 21,
     "metadata": {},
     "output_type": "execute_result"
    }
   ],
   "source": [
    "mod\n"
   ]
  },
  {
   "cell_type": "code",
   "execution_count": 22,
   "id": "875dce62",
   "metadata": {},
   "outputs": [
    {
     "data": {
      "text/plain": [
       "False"
      ]
     },
     "execution_count": 22,
     "metadata": {},
     "output_type": "execute_result"
    }
   ],
   "source": [
    "comp"
   ]
  },
  {
   "cell_type": "code",
   "execution_count": 23,
   "id": "f9eb4b4b",
   "metadata": {},
   "outputs": [
    {
     "data": {
      "text/plain": [
       "True"
      ]
     },
     "execution_count": 23,
     "metadata": {},
     "output_type": "execute_result"
    }
   ],
   "source": [
    "great\n"
   ]
  },
  {
   "cell_type": "code",
   "execution_count": 24,
   "id": "12e855c9",
   "metadata": {},
   "outputs": [
    {
     "data": {
      "text/plain": [
       "False"
      ]
     },
     "execution_count": 24,
     "metadata": {},
     "output_type": "execute_result"
    }
   ],
   "source": [
    "less\n"
   ]
  },
  {
   "cell_type": "code",
   "execution_count": 25,
   "id": "3c42f007",
   "metadata": {},
   "outputs": [
    {
     "data": {
      "text/plain": [
       "True"
      ]
     },
     "execution_count": 25,
     "metadata": {},
     "output_type": "execute_result"
    }
   ],
   "source": [
    "not_eq"
   ]
  },
  {
   "cell_type": "code",
   "execution_count": 26,
   "id": "34ff72e9",
   "metadata": {},
   "outputs": [
    {
     "data": {
      "text/plain": [
       "9536743164062500000000000000000000"
      ]
     },
     "execution_count": 26,
     "metadata": {},
     "output_type": "execute_result"
    }
   ],
   "source": [
    "\n",
    "sqr\n"
   ]
  },
  {
   "cell_type": "code",
   "execution_count": 28,
   "id": "00b6b702",
   "metadata": {},
   "outputs": [
    {
     "data": {
      "text/plain": [
       "False"
      ]
     },
     "execution_count": 28,
     "metadata": {},
     "output_type": "execute_result"
    }
   ],
   "source": [
    "logi\n"
   ]
  },
  {
   "cell_type": "code",
   "execution_count": 29,
   "id": "3beeb9a5",
   "metadata": {},
   "outputs": [
    {
     "data": {
      "text/plain": [
       "True"
      ]
     },
     "execution_count": 29,
     "metadata": {},
     "output_type": "execute_result"
    }
   ],
   "source": [
    "logi1\n"
   ]
  },
  {
   "cell_type": "code",
   "execution_count": 30,
   "id": "b4491456",
   "metadata": {},
   "outputs": [
    {
     "data": {
      "text/plain": [
       "False"
      ]
     },
     "execution_count": 30,
     "metadata": {},
     "output_type": "execute_result"
    }
   ],
   "source": [
    "logi2\n"
   ]
  },
  {
   "cell_type": "code",
   "execution_count": 31,
   "id": "26b3eae8",
   "metadata": {},
   "outputs": [
    {
     "data": {
      "text/plain": [
       "16"
      ]
     },
     "execution_count": 31,
     "metadata": {},
     "output_type": "execute_result"
    }
   ],
   "source": [
    "bit\n"
   ]
  },
  {
   "cell_type": "code",
   "execution_count": 32,
   "id": "03bd556a",
   "metadata": {},
   "outputs": [
    {
     "data": {
      "text/plain": [
       "54"
      ]
     },
     "execution_count": 32,
     "metadata": {},
     "output_type": "execute_result"
    }
   ],
   "source": [
    "bit2\n"
   ]
  },
  {
   "cell_type": "code",
   "execution_count": 33,
   "id": "09c5b156",
   "metadata": {},
   "outputs": [
    {
     "data": {
      "text/plain": [
       "-21"
      ]
     },
     "execution_count": 33,
     "metadata": {},
     "output_type": "execute_result"
    }
   ],
   "source": [
    "bit3\n"
   ]
  },
  {
   "cell_type": "code",
   "execution_count": 34,
   "id": "47e72575",
   "metadata": {},
   "outputs": [
    {
     "data": {
      "text/plain": [
       "-51"
      ]
     },
     "execution_count": 34,
     "metadata": {},
     "output_type": "execute_result"
    }
   ],
   "source": [
    "bit5\n"
   ]
  },
  {
   "cell_type": "code",
   "execution_count": 35,
   "id": "f838ce28",
   "metadata": {},
   "outputs": [
    {
     "data": {
      "text/plain": [
       "38"
      ]
     },
     "execution_count": 35,
     "metadata": {},
     "output_type": "execute_result"
    }
   ],
   "source": [
    "bit4\n"
   ]
  },
  {
   "cell_type": "code",
   "execution_count": 36,
   "id": "9be76805",
   "metadata": {},
   "outputs": [
    {
     "data": {
      "text/plain": [
       "0"
      ]
     },
     "execution_count": 36,
     "metadata": {},
     "output_type": "execute_result"
    }
   ],
   "source": [
    "shift1\n"
   ]
  },
  {
   "cell_type": "code",
   "execution_count": 37,
   "id": "cc424643",
   "metadata": {},
   "outputs": [
    {
     "data": {
      "text/plain": [
       "52428800"
      ]
     },
     "execution_count": 37,
     "metadata": {},
     "output_type": "execute_result"
    }
   ],
   "source": [
    "shift2\n"
   ]
  },
  {
   "cell_type": "code",
   "execution_count": 40,
   "id": "7dc86e41",
   "metadata": {},
   "outputs": [
    {
     "data": {
      "text/plain": [
       "45"
      ]
     },
     "execution_count": 40,
     "metadata": {},
     "output_type": "execute_result"
    }
   ],
   "source": [
    "x\n"
   ]
  },
  {
   "cell_type": "code",
   "execution_count": 41,
   "id": "a99030a7",
   "metadata": {},
   "outputs": [
    {
     "data": {
      "text/plain": [
       "20"
      ]
     },
     "execution_count": 41,
     "metadata": {},
     "output_type": "execute_result"
    }
   ],
   "source": [
    "y\n"
   ]
  },
  {
   "cell_type": "markdown",
   "id": "8e25ab40",
   "metadata": {},
   "source": [
    "# Q3 Compare two numbers and print the results."
   ]
  },
  {
   "cell_type": "code",
   "execution_count": 44,
   "id": "6af06723",
   "metadata": {},
   "outputs": [],
   "source": [
    "x=45\n",
    "y=56"
   ]
  },
  {
   "cell_type": "code",
   "execution_count": 45,
   "id": "898d020d",
   "metadata": {},
   "outputs": [],
   "source": [
    "res=x==y"
   ]
  },
  {
   "cell_type": "code",
   "execution_count": 46,
   "id": "6eef9f12",
   "metadata": {},
   "outputs": [
    {
     "data": {
      "text/plain": [
       "False"
      ]
     },
     "execution_count": 46,
     "metadata": {},
     "output_type": "execute_result"
    }
   ],
   "source": [
    "res"
   ]
  },
  {
   "cell_type": "code",
   "execution_count": 47,
   "id": "46189edc",
   "metadata": {},
   "outputs": [],
   "source": [
    "res1=x>=y"
   ]
  },
  {
   "cell_type": "code",
   "execution_count": 48,
   "id": "8481e058",
   "metadata": {},
   "outputs": [
    {
     "data": {
      "text/plain": [
       "False"
      ]
     },
     "execution_count": 48,
     "metadata": {},
     "output_type": "execute_result"
    }
   ],
   "source": [
    "res1"
   ]
  },
  {
   "cell_type": "code",
   "execution_count": 49,
   "id": "5a13a35d",
   "metadata": {},
   "outputs": [],
   "source": [
    "res2=x<=y"
   ]
  },
  {
   "cell_type": "code",
   "execution_count": 50,
   "id": "37aba0af",
   "metadata": {},
   "outputs": [
    {
     "data": {
      "text/plain": [
       "True"
      ]
     },
     "execution_count": 50,
     "metadata": {},
     "output_type": "execute_result"
    }
   ],
   "source": [
    "res2"
   ]
  },
  {
   "cell_type": "code",
   "execution_count": 51,
   "id": "c34bba68",
   "metadata": {},
   "outputs": [],
   "source": [
    "res3=x!=y"
   ]
  },
  {
   "cell_type": "code",
   "execution_count": 52,
   "id": "20da873a",
   "metadata": {},
   "outputs": [
    {
     "data": {
      "text/plain": [
       "True"
      ]
     },
     "execution_count": 52,
     "metadata": {},
     "output_type": "execute_result"
    }
   ],
   "source": [
    "res3"
   ]
  },
  {
   "cell_type": "markdown",
   "id": "59ddd378",
   "metadata": {},
   "source": [
    "# Q4 Check conditions using logical operators."
   ]
  },
  {
   "cell_type": "code",
   "execution_count": 53,
   "id": "974bb7e0",
   "metadata": {},
   "outputs": [],
   "source": [
    "result=(x>y) and (x<y)"
   ]
  },
  {
   "cell_type": "code",
   "execution_count": 54,
   "id": "339f5324",
   "metadata": {},
   "outputs": [
    {
     "data": {
      "text/plain": [
       "False"
      ]
     },
     "execution_count": 54,
     "metadata": {},
     "output_type": "execute_result"
    }
   ],
   "source": [
    "result"
   ]
  },
  {
   "cell_type": "code",
   "execution_count": 55,
   "id": "35e18d8d",
   "metadata": {},
   "outputs": [],
   "source": [
    "result1=(x>y) or (x<y)"
   ]
  },
  {
   "cell_type": "code",
   "execution_count": 56,
   "id": "337b0b75",
   "metadata": {},
   "outputs": [
    {
     "data": {
      "text/plain": [
       "True"
      ]
     },
     "execution_count": 56,
     "metadata": {},
     "output_type": "execute_result"
    }
   ],
   "source": [
    "result1"
   ]
  },
  {
   "cell_type": "code",
   "execution_count": 57,
   "id": "ee273ac7",
   "metadata": {},
   "outputs": [],
   "source": [
    "result2=not(x==y)"
   ]
  },
  {
   "cell_type": "code",
   "execution_count": 58,
   "id": "8665bab0",
   "metadata": {},
   "outputs": [
    {
     "data": {
      "text/plain": [
       "True"
      ]
     },
     "execution_count": 58,
     "metadata": {},
     "output_type": "execute_result"
    }
   ],
   "source": [
    "result2"
   ]
  },
  {
   "cell_type": "markdown",
   "id": "564cdda1",
   "metadata": {},
   "source": [
    "# Q5 Check the identity of variables."
   ]
  },
  {
   "cell_type": "code",
   "execution_count": 59,
   "id": "0b111df2",
   "metadata": {},
   "outputs": [],
   "source": [
    "r1=5\n",
    "r2=9\n",
    "var1=r1==r2"
   ]
  },
  {
   "cell_type": "code",
   "execution_count": 60,
   "id": "61d5cf41",
   "metadata": {},
   "outputs": [
    {
     "data": {
      "text/plain": [
       "False"
      ]
     },
     "execution_count": 60,
     "metadata": {},
     "output_type": "execute_result"
    }
   ],
   "source": [
    "var1"
   ]
  },
  {
   "cell_type": "code",
   "execution_count": 61,
   "id": "5343d30c",
   "metadata": {},
   "outputs": [],
   "source": [
    "var2=r1>r2"
   ]
  },
  {
   "cell_type": "code",
   "execution_count": 62,
   "id": "13c3656d",
   "metadata": {},
   "outputs": [
    {
     "data": {
      "text/plain": [
       "False"
      ]
     },
     "execution_count": 62,
     "metadata": {},
     "output_type": "execute_result"
    }
   ],
   "source": [
    "var2"
   ]
  },
  {
   "cell_type": "code",
   "execution_count": 63,
   "id": "49cc3984",
   "metadata": {},
   "outputs": [],
   "source": [
    "var3=r1<r2"
   ]
  },
  {
   "cell_type": "code",
   "execution_count": 64,
   "id": "26e00b15",
   "metadata": {},
   "outputs": [
    {
     "data": {
      "text/plain": [
       "True"
      ]
     },
     "execution_count": 64,
     "metadata": {},
     "output_type": "execute_result"
    }
   ],
   "source": [
    "var3"
   ]
  },
  {
   "cell_type": "code",
   "execution_count": 65,
   "id": "41588ae4",
   "metadata": {},
   "outputs": [],
   "source": [
    "var4=r1!=r2"
   ]
  },
  {
   "cell_type": "code",
   "execution_count": 66,
   "id": "6bf0051e",
   "metadata": {},
   "outputs": [
    {
     "data": {
      "text/plain": [
       "True"
      ]
     },
     "execution_count": 66,
     "metadata": {},
     "output_type": "execute_result"
    }
   ],
   "source": [
    "var4"
   ]
  },
  {
   "cell_type": "markdown",
   "id": "09149392",
   "metadata": {},
   "source": [
    "# Q6 Perform bitwise operations on any two integers."
   ]
  },
  {
   "cell_type": "code",
   "execution_count": 67,
   "id": "41edf2ef",
   "metadata": {},
   "outputs": [],
   "source": [
    "a=5\n",
    "b=6"
   ]
  },
  {
   "cell_type": "code",
   "execution_count": 68,
   "id": "a343bd59",
   "metadata": {},
   "outputs": [],
   "source": [
    "res1=a&b"
   ]
  },
  {
   "cell_type": "code",
   "execution_count": 69,
   "id": "2dbddf2e",
   "metadata": {},
   "outputs": [],
   "source": [
    "res2=a|b"
   ]
  },
  {
   "cell_type": "code",
   "execution_count": 70,
   "id": "d3626a8a",
   "metadata": {},
   "outputs": [],
   "source": [
    "res3=~a"
   ]
  },
  {
   "cell_type": "code",
   "execution_count": 71,
   "id": "eea85f37",
   "metadata": {},
   "outputs": [],
   "source": [
    "res4=a^b"
   ]
  },
  {
   "cell_type": "code",
   "execution_count": 72,
   "id": "b8274ec1",
   "metadata": {},
   "outputs": [
    {
     "data": {
      "text/plain": [
       "4"
      ]
     },
     "execution_count": 72,
     "metadata": {},
     "output_type": "execute_result"
    }
   ],
   "source": [
    "res1"
   ]
  },
  {
   "cell_type": "code",
   "execution_count": 73,
   "id": "6fb3c989",
   "metadata": {},
   "outputs": [
    {
     "data": {
      "text/plain": [
       "7"
      ]
     },
     "execution_count": 73,
     "metadata": {},
     "output_type": "execute_result"
    }
   ],
   "source": [
    "res2"
   ]
  },
  {
   "cell_type": "code",
   "execution_count": 74,
   "id": "89ecd4ae",
   "metadata": {},
   "outputs": [
    {
     "data": {
      "text/plain": [
       "-6"
      ]
     },
     "execution_count": 74,
     "metadata": {},
     "output_type": "execute_result"
    }
   ],
   "source": [
    "res3"
   ]
  },
  {
   "cell_type": "code",
   "execution_count": 75,
   "id": "300303da",
   "metadata": {},
   "outputs": [
    {
     "data": {
      "text/plain": [
       "3"
      ]
     },
     "execution_count": 75,
     "metadata": {},
     "output_type": "execute_result"
    }
   ],
   "source": [
    "res4"
   ]
  },
  {
   "cell_type": "markdown",
   "id": "3d878c33",
   "metadata": {},
   "source": [
    "# Q7 Use unary operators to change the sign of a number."
   ]
  },
  {
   "cell_type": "code",
   "execution_count": 76,
   "id": "625f7372",
   "metadata": {},
   "outputs": [],
   "source": [
    "a=5"
   ]
  },
  {
   "cell_type": "code",
   "execution_count": 77,
   "id": "5c035a83",
   "metadata": {},
   "outputs": [],
   "source": [
    "b=~a"
   ]
  },
  {
   "cell_type": "code",
   "execution_count": 78,
   "id": "75775e8a",
   "metadata": {},
   "outputs": [
    {
     "data": {
      "text/plain": [
       "-6"
      ]
     },
     "execution_count": 78,
     "metadata": {},
     "output_type": "execute_result"
    }
   ],
   "source": [
    "b"
   ]
  },
  {
   "cell_type": "code",
   "execution_count": 79,
   "id": "0504ec51",
   "metadata": {},
   "outputs": [],
   "source": [
    "x=5"
   ]
  },
  {
   "cell_type": "code",
   "execution_count": 80,
   "id": "16f23734",
   "metadata": {},
   "outputs": [],
   "source": [
    "y=-x"
   ]
  },
  {
   "cell_type": "code",
   "execution_count": 81,
   "id": "b3950b5a",
   "metadata": {},
   "outputs": [
    {
     "data": {
      "text/plain": [
       "-5"
      ]
     },
     "execution_count": 81,
     "metadata": {},
     "output_type": "execute_result"
    }
   ],
   "source": [
    "y"
   ]
  },
  {
   "cell_type": "code",
   "execution_count": 82,
   "id": "f52bd6bf",
   "metadata": {},
   "outputs": [],
   "source": [
    "p=+y"
   ]
  },
  {
   "cell_type": "markdown",
   "id": "4e191866",
   "metadata": {},
   "source": [
    "# Q8 Use the ternary operator to assign values based on conditions."
   ]
  },
  {
   "cell_type": "code",
   "execution_count": 93,
   "id": "3664dcf1",
   "metadata": {},
   "outputs": [],
   "source": [
    "number = 84854661\n",
    "result = \"odd\" if number % 2 == 1 else \"even\""
   ]
  },
  {
   "cell_type": "code",
   "execution_count": 94,
   "id": "a47a49c7",
   "metadata": {},
   "outputs": [
    {
     "data": {
      "text/plain": [
       "'odd'"
      ]
     },
     "execution_count": 94,
     "metadata": {},
     "output_type": "execute_result"
    }
   ],
   "source": [
    "result"
   ]
  },
  {
   "cell_type": "code",
   "execution_count": 95,
   "id": "678dc4fc",
   "metadata": {},
   "outputs": [],
   "source": [
    "r1 = 56\n",
    "result = \"Greater than 100\" if r1 > 100 else (\"Between 50 and 100\" if 50 <= x <= 100 else \"Less than 50\")"
   ]
  },
  {
   "cell_type": "code",
   "execution_count": 96,
   "id": "2f153d32",
   "metadata": {},
   "outputs": [
    {
     "data": {
      "text/plain": [
       "'Less than 50'"
      ]
     },
     "execution_count": 96,
     "metadata": {},
     "output_type": "execute_result"
    }
   ],
   "source": [
    "result"
   ]
  },
  {
   "cell_type": "code",
   "execution_count": null,
   "id": "50ad647f",
   "metadata": {},
   "outputs": [],
   "source": []
  }
 ],
 "metadata": {
  "kernelspec": {
   "display_name": "Python 3 (ipykernel)",
   "language": "python",
   "name": "python3"
  },
  "language_info": {
   "codemirror_mode": {
    "name": "ipython",
    "version": 3
   },
   "file_extension": ".py",
   "mimetype": "text/x-python",
   "name": "python",
   "nbconvert_exporter": "python",
   "pygments_lexer": "ipython3",
   "version": "3.11.5"
  }
 },
 "nbformat": 4,
 "nbformat_minor": 5
}
